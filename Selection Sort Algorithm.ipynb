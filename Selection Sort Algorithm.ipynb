{
 "cells": [
  {
   "cell_type": "markdown",
   "id": "ebc36572",
   "metadata": {},
   "source": [
    "SORTING ALGORITHM: SELECTION SORT\n",
    "--------------------------------------------------------------------------------------------------------------------------------------"
   ]
  },
  {
   "cell_type": "code",
   "execution_count": 2,
   "id": "afe85549",
   "metadata": {},
   "outputs": [
    {
     "name": "stdout",
     "output_type": "stream",
     "text": [
      "------------------------------------\n",
      "| Date & Hour: 2023-08-09 16:52:52 |\n",
      "------------------------------------\n",
      "------------------------------------\n",
      "     |Author:  Federico Targa |\n",
      "------------------------------------\n"
     ]
    }
   ],
   "source": [
    "from datetime import datetime\n",
    "current_date_time = datetime.now()\n",
    "formatted_date_time = current_date_time.strftime(\"%Y-%m-%d %H:%M:%S\")\n",
    "author = 'Federico Targa'\n",
    "print('------------------------------------')\n",
    "print(\"| Date & Hour:\", formatted_date_time,'|')\n",
    "print('------------------------------------')\n",
    "print('------------------------------------')\n",
    "print('     |Author: ', author                 ,'|')\n",
    "print('------------------------------------')"
   ]
  },
  {
   "cell_type": "markdown",
   "id": "3eb987a7",
   "metadata": {},
   "source": [
    "Selection Sort is a simple comparison-based sorting algorithm that works by repeatedly selecting the smallest (or largest) element from the unsorted portion of the array and swapping it with the element at the beginning of the sorted portion. Over successive iterations, the sorted portion grows and the unsorted portion shrinks until the entire array is sorted."
   ]
  },
  {
   "cell_type": "markdown",
   "id": "75ee3598",
   "metadata": {},
   "source": [
    "STEPS:\n",
    "--------------------------------------------------------------------------------------------------------------------------------------\n",
    "Here's a step-by-step explanation of the Selection Sort algorithm:\n",
    "\n",
    "- Initialization: The algorithm starts by considering the entire array as unsorted. The \"sorted\" portion of the array is initially empty.\n",
    "\n",
    "- Find the Minimum Element: The algorithm scans through the unsorted portion of the array to find the smallest element. It keeps track of the index of the smallest element found during the scan.\n",
    "\n",
    "- Swap with the First Element: Once the smallest element is found, it is swapped with the element at the beginning of the unsorted portion. This effectively moves the smallest element from the unsorted portion to the end of the sorted portion.\n",
    "\n",
    "- Expand the Sorted Portion: The element that was just swapped to the beginning of the sorted portion is now considered part of the sorted section. The first element of the sorted section becomes the largest element in the sorted portion.\n",
    "\n",
    "- Repeat Steps 2-4: Steps 2 through 4 are repeated for the remaining unsorted portion of the array. In each iteration, the algorithm finds the smallest element in the remaining unsorted portion and swaps it with the element at the beginning of the unsorted portion.\n",
    "\n",
    "- Termination: The algorithm continues iterating until the entire array is sorted. This happens when the unsorted portion becomes empty."
   ]
  },
  {
   "cell_type": "markdown",
   "id": "aec2887b",
   "metadata": {},
   "source": [
    "RAW PSEUDOCODE\n",
    "-----"
   ]
  },
  {
   "cell_type": "code",
   "execution_count": 3,
   "id": "e3c61c43",
   "metadata": {},
   "outputs": [
    {
     "data": {
      "image/png": "[encoded data removed]",
      "text/plain": [
       "<PIL.PngImagePlugin.PngImageFile image mode=RGBA size=597x261>"
      ]
     },
     "metadata": {},
     "output_type": "display_data"
    }
   ],
   "source": [
    "from PIL import Image\n",
    "from IPython.display import display\n",
    "\n",
    "def open_image(image_path):\n",
    "    try:\n",
    "        image = Image.open(image_path)\n",
    "        return image\n",
    "    except IOError:\n",
    "        print(f\"Unable to open image at '{image_path}'\")\n",
    "        return None\n",
    "\n",
    "# Example usage:\n",
    "image = open_image(\"selectionsort_pseucode.png\")\n",
    "if image:\n",
    "    display(image)\n"
   ]
  },
  {
   "cell_type": "markdown",
   "id": "66afa2f4",
   "metadata": {},
   "source": [
    "Let's perform a detailed analysis of the time complexity of the Selection Sort algorithm.\n",
    "----\n",
    "In Selection Sort, the main work is done in two nested loops: the outer loop and the inner loop.\n",
    "\n",
    "1) Outer Loop:\n",
    "The outer loop runs for n-1 iterations, where n is the number of elements in the array.\n",
    "In each iteration, the algorithm selects the smallest element from the remaining unsorted portion of the array and swaps it with the element at the beginning of the unsorted portion.\n",
    "The first iteration requires n-1 comparisons, the second iteration requires n-2 comparisons, and so on.\n",
    "The total number of comparisons performed by the outer loop is the sum of the first n-1 positive integers: 1 + 2 + ...+ (n-1).\n",
    "The sum of the first n-1 positive integers can be expressed as (n-1) * n / 2.\n",
    "Therefore, the number of comparisons performed by the outer loop is approximately (n^2 - n) / 2.\n",
    "\n",
    "\n",
    "2) Inner Loop:\n",
    "The inner loop runs within each iteration of the outer loop.\n",
    "In each iteration of the outer loop, the inner loop scans the remaining unsorted portion of the array to find the minimum element.\n",
    "The number of comparisons performed by the inner loop depends on the size of the remaining unsorted portion.\n",
    "In the worst case, the inner loop performs n-1 comparisons in the first iteration, n-2 comparisons in the second iteration, and so on, until it performs 1 comparison in the last iteration.\n",
    "The total number of comparisons performed by the inner loop over all iterations of the outer loop is also the sum of the first n-1 positive integers: 1 + 2 + 3 + ... + (n-1).\n",
    "\n",
    "Combining the analysis of both loops, the total number of comparisons performed by the Selection Sort algorithm is approximately:\n",
    "\n",
    "Total Comparisons = (n^2 - n) / 2 + (n^2 - n) / 2 = n^2 - n\n",
    "\n",
    "Now, when analyzing time complexity, we typically consider the dominant term that grows the fastest as the input size n becomes large. In this case, the n^2 term dominates, and the linear term n becomes relatively insignificant.\n",
    "\n",
    "Thus, the worst-case and average-case time complexity of the Selection Sort algorithm is O(n^2). This means that as the number of elements in the array increases, the number of comparisons and swaps performed by the algorithm grows quadratically.\n",
    "\n",
    "Selection Sort is not considered an efficient sorting algorithm for larger datasets, mainly due to its quadratic time complexity. There are other sorting algorithms, such as Merge Sort, Quick Sort, and Heap Sort, that offer better average and worst-case time complexities and are more suitable for larger arrays."
   ]
  },
  {
   "cell_type": "markdown",
   "id": "baf71d0e",
   "metadata": {},
   "source": [
    "EXAMPLE 1: SELECTION SORT FOR LISTS\n",
    "------------------"
   ]
  },
  {
   "cell_type": "code",
   "execution_count": 10,
   "id": "0e8e30c9",
   "metadata": {},
   "outputs": [],
   "source": [
    "def selection_sort(L):\n",
    "    n = len(L)\n",
    "    for i in range(n - 1):\n",
    "        # Find the index of the minimum element in the remaining unsorted portion\n",
    "        minIndex = i\n",
    "        for j in range(i + 1, n):\n",
    "            if L[j] < L[minIndex]:\n",
    "                minIndex = j\n",
    "        \n",
    "        # Swap the minimum element with the first element of the unsorted portion\n",
    "        L[i], L[minIndex] = L[minIndex], L[i]"
   ]
  },
  {
   "cell_type": "markdown",
   "id": "ca54fae2",
   "metadata": {},
   "source": [
    "TEST\n",
    "-----"
   ]
  },
  {
   "cell_type": "code",
   "execution_count": 11,
   "id": "5a6f8a75",
   "metadata": {},
   "outputs": [
    {
     "name": "stdout",
     "output_type": "stream",
     "text": [
      "Unsorted List:  [12, 11, 13, 5, 66.75, 6, -2, 0, 44, 31, 82, -2.2, 0.5]\n",
      "\n",
      "Sorted list: [-2.2, -2, 0, 0.5, 5, 6, 11, 12, 13, 31, 44, 66.75, 82]\n",
      "\n",
      "Type of data : <class 'list'>\n"
     ]
    }
   ],
   "source": [
    "L = [12, 11, 13, 5, 66.75, 6, -2 ,0 , 44, 31 , 82, -2.2, 0.5]\n",
    "print('Unsorted List: ', L)\n",
    "selection_sort(L)\n",
    "print()\n",
    "print(\"Sorted list:\", L)\n",
    "print()\n",
    "print('Type of data :', type(L))"
   ]
  },
  {
   "cell_type": "markdown",
   "id": "a01eb67f",
   "metadata": {},
   "source": [
    "EXAMPLE 2: SELECTION SORT FOR NUMPY ARRAYS\n",
    "------------   "
   ]
  },
  {
   "cell_type": "code",
   "execution_count": 12,
   "id": "ffec3185",
   "metadata": {},
   "outputs": [],
   "source": [
    "import numpy as np\n",
    "\n",
    "def selection_sort_numpy(arr):\n",
    "    n = len(arr)\n",
    "    for i in range(n - 1):\n",
    "        minIndex = i\n",
    "        for j in range(i + 1, n):\n",
    "            if arr[j] < arr[minIndex]:\n",
    "                minIndex = j\n",
    "        \n",
    "        arr[i], arr[minIndex] = arr[minIndex], arr[i]"
   ]
  },
  {
   "cell_type": "markdown",
   "id": "9718fea0",
   "metadata": {},
   "source": [
    "TEST\n",
    "-----"
   ]
  },
  {
   "cell_type": "code",
   "execution_count": 13,
   "id": "2ec72bd8",
   "metadata": {},
   "outputs": [
    {
     "name": "stdout",
     "output_type": "stream",
     "text": [
      "Unsorted Array : [-776 -637 -595 -535 -501 -408 -160  254  574  983]\n",
      "\n",
      "Sorted array: [-776 -637 -595 -535 -501 -408 -160  254  574  983]\n",
      "\n",
      "Type of data : <class 'numpy.ndarray'>\n"
     ]
    }
   ],
   "source": [
    "#arr = np.random.uniform(-1000, 1000, size = 15).round(N) if u want array with float64 n digits numbers \n",
    "arr = np.random.randint(-1000, 1000, size = 10)\n",
    "selection_sort_numpy(arr)\n",
    "print('Unsorted Array :', arr)\n",
    "print()\n",
    "print(\"Sorted array:\", arr)\n",
    "print()\n",
    "print('Type of data :', type(arr))"
   ]
  }
 ],
 "metadata": {
  "kernelspec": {
   "display_name": "Python 3 (ipykernel)",
   "language": "python",
   "name": "python3"
  },
  "language_info": {
   "codemirror_mode": {
    "name": "ipython",
    "version": 3
   },
   "file_extension": ".py",
   "mimetype": "text/x-python",
   "name": "python",
   "nbconvert_exporter": "python",
   "pygments_lexer": "ipython3",
   "version": "3.10.9"
  }
 },
 "nbformat": 4,
 "nbformat_minor": 5
}
