{
 "cells": [
  {
   "cell_type": "markdown",
   "id": "180fcd81",
   "metadata": {},
   "source": [
    "Shell Sort Algorithm -  Knuth's Sequence Version\n",
    "--"
   ]
  },
  {
   "cell_type": "code",
   "execution_count": 1,
   "id": "28157f0a",
   "metadata": {},
   "outputs": [
    {
     "name": "stdout",
     "output_type": "stream",
     "text": [
      "------------------------------------\n",
      "| Date & Hour: 2023-08-15 16:42:21 |\n",
      "------------------------------------\n",
      "------------------------------------\n",
      "     |Author:  Federico Targa |\n",
      "------------------------------------\n"
     ]
    }
   ],
   "source": [
    "from datetime import datetime\n",
    "current_date_time = datetime.now()\n",
    "formatted_date_time = current_date_time.strftime(\"%Y-%m-%d %H:%M:%S\")\n",
    "author = 'Federico Targa'\n",
    "print('------------------------------------')\n",
    "print(\"| Date & Hour:\", formatted_date_time,'|')\n",
    "print('------------------------------------')\n",
    "print('------------------------------------')\n",
    "print('     |Author: ', author                 ,'|')\n",
    "print('------------------------------------')"
   ]
  },
  {
   "cell_type": "markdown",
   "id": "52d5f93c",
   "metadata": {},
   "source": [
    "INTRODUCTION\n",
    "--\n",
    "Shell sort is an efficient sorting algorithm that improves upon the insertion sort algorithm by allowing elements to move in larger steps towards their sorted positions. Donald Shell introduced this algorithm in 1959, and it's known for its adaptability to different input sequences. One of the sequences commonly used with Shell sort is Donald Knuth's sequence.\n",
    "Knuth's sequence is a series of integers that are used to determine the gap between elements that are compared and swapped during the sorting process. The sequence is generated using the formula h(n) = 3*h(n-1) + 1, with an initial value of h(0) = 1. This sequence tends to produce good results for shell sorting."
   ]
  },
  {
   "cell_type": "markdown",
   "id": "abd81858",
   "metadata": {},
   "source": [
    "HOW DOES IT WORKS?\n",
    "---\n",
    "Let's see how the Shell sort algorithm works with Knuth's sequence"
   ]
  },
  {
   "cell_type": "markdown",
   "id": "0257a7df",
   "metadata": {},
   "source": [
    "1) Generate the Gap Sequence (Knuth's sequence):\n",
    "Start with h = 1 and use the formula h(n) = 3*h(n-1) + 1 to generate a series of gap values. Continue generating gap values until you have a gap value greater than the length of the array you're sorting. These gap values will be used to determine how elements are compared and swapped during the sorting process.\n",
    "\n",
    "2) Sorting Passes:\n",
    "Perform sorting passes for each gap value in the sequence, starting from the largest gap and decreasing towards 1. For each gap value, perform an insertion sort-like process on the subarrays created by partitioning the main array into segments of the given gap.\n",
    "\n",
    "3) Insertion Sort-like Pass:\n",
    "For each segment of the array determined by the current gap, use insertion sort to sort the elements within that segment. However, unlike regular insertion sort where adjacent elements are compared and swapped, elements that are separated by the current gap distance are compared and swapped.\n",
    "\n",
    "4) Reduce Gap:\n",
    "After completing the sorting pass for a particular gap value, reduce the gap according to the Knuth sequence (h(n) = (h(n) - 1) / 3). This step will gradually decrease the gap size until it reaches 1.\n",
    "\n",
    "5) Final Pass:\n",
    "The final pass of the algorithm will have a gap of 1, effectively performing a standard insertion sort on the entire array. This final pass takes advantage of the work done by the previous passes to make the remaining sorting process more efficient.\n",
    "\n",
    "6) Algorithm Completion:\n",
    "After the final pass with a gap of 1, the array is completely sorted, and the algorithm terminates."
   ]
  },
  {
   "cell_type": "markdown",
   "id": "b864c305",
   "metadata": {},
   "source": [
    "EXAMPLE:\n",
    "--"
   ]
  },
  {
   "cell_type": "markdown",
   "id": "2324b8e6",
   "metadata": {},
   "source": [
    "Input unsorted array : [8, 4, 1, 6, 9, 2, 7, 5, 3]\n",
    "\n",
    "Knuth's sequence: 1, 4, 13 (Generated using h(n) = 3*h(n-1) + 1)\n",
    "\n",
    "1) First pass with gap = 13:\n",
    "\n",
    "Subarrays: [8, 2], [4, 7], [1, 5], [6, 3], [9]: perform Insertion sort within subarrays\n",
    "\n",
    "2) Second pass with gap = 4:\n",
    "\n",
    "Subarrays: [8, 9, 1, 3], [4, 2, 6, 5], [7]: perform Insertion sort within subarrays\n",
    "\n",
    "3) Third pass with gap = 1: perform Standard insertion sort on the entire array\n",
    "\n",
    "The main idea behind Shell sort with Knuth's sequence is to initially perform sorting with larger gaps, which helps in quickly moving smaller elements towards their appropriate positions. As the algorithm progresses and the gap decreases, the array becomes increasingly more sorted, making the final insertion sort pass highly efficient. This algorithm strikes a balance between the efficiency of insertion sort and the speed of larger gap increments."
   ]
  },
  {
   "cell_type": "markdown",
   "id": "887670b2",
   "metadata": {},
   "source": [
    "IMPLEMENTATION\n",
    "--\n",
    "! Remember that adding comments to your code is an excellent practice for improving code readability and understanding, especially for complex algorithms like sorting !"
   ]
  },
  {
   "cell_type": "code",
   "execution_count": 2,
   "id": "70339637",
   "metadata": {},
   "outputs": [],
   "source": [
    "def shell_sort_knuths(arr):\n",
    "    n = len(arr)\n",
    "    gap = 1\n",
    "    \n",
    "    # Generate Knuth's sequence for gap values\n",
    "    while gap < n // 3:\n",
    "        gap = 3 * gap + 1\n",
    "    \n",
    "    # Loop through different gap values in the sequence\n",
    "    while gap > 0:\n",
    "        # Perform insertion-sort-like steps for each segment\n",
    "        for i in range(gap, n):\n",
    "            temp = arr[i]  # Current element to be inserted in its correct position\n",
    "            j = i\n",
    "            \n",
    "            # Compare and move elements within the segment\n",
    "            while j >= gap and arr[j - gap] > temp:\n",
    "                arr[j] = arr[j - gap]\n",
    "                j -= gap\n",
    "            \n",
    "            # Place the current element in its correct position\n",
    "            arr[j] = temp\n",
    "        \n",
    "        # Reduce the gap according to Knuth's sequence\n",
    "        gap = (gap - 1) // 3"
   ]
  },
  {
   "cell_type": "markdown",
   "id": "61e3f562",
   "metadata": {},
   "source": [
    "TEST 1: small input array\n",
    "--"
   ]
  },
  {
   "cell_type": "code",
   "execution_count": 3,
   "id": "f2150374",
   "metadata": {},
   "outputs": [
    {
     "name": "stdout",
     "output_type": "stream",
     "text": [
      "Unsorted array:  [126, 459, -140, 294, 130, 95, 724, 44, 638, -879, -534, 238, -670]\n",
      "\n",
      "Sorted array:  [-879, -670, -534, -140, 44, 95, 126, 130, 238, 294, 459, 638, 724]\n"
     ]
    }
   ],
   "source": [
    "import numpy as np\n",
    "np.random.seed(42) \n",
    "arr = np.random.randint(-1000,1000, size = 13)\n",
    "arr = list(arr)\n",
    "#**********************************************\n",
    "print('Unsorted array: ', arr)\n",
    "shell_sort_knuths(arr)\n",
    "print()\n",
    "print('Sorted array: ', arr)"
   ]
  },
  {
   "cell_type": "markdown",
   "id": "2443c851",
   "metadata": {},
   "source": [
    "TEST 2: huge imput array\n",
    "--"
   ]
  },
  {
   "cell_type": "code",
   "execution_count": 4,
   "id": "e35f19c7",
   "metadata": {},
   "outputs": [
    {
     "name": "stdout",
     "output_type": "stream",
     "text": [
      "Execution time:  12.669 [s]\n"
     ]
    }
   ],
   "source": [
    "import time\n",
    "start_time = time.time()\n",
    "np.random.seed(42) \n",
    "arr = np.random.randint(-100_000,100_000, size = 800000)\n",
    "arr = list(arr)\n",
    "#**********************************************\n",
    "#print('Unsorted array: ', arr)\n",
    "shell_sort_knuths(arr)\n",
    "#print()\n",
    "#print('Sorted array: ', arr)\n",
    "end_time = time.time()\n",
    "\n",
    "print('Execution time: ', round((end_time-start_time), 3), '[s]')"
   ]
  },
  {
   "cell_type": "markdown",
   "id": "d9bc6418",
   "metadata": {},
   "source": [
    "TEST 2: huge imput array\n",
    "--\n",
    "We can partially solve the slow running time in two ways:\n",
    "1) changing sosrting algorithm (Merge , Quick, Heap and so on)\n",
    "2) decorating function with njit\n",
    "\n",
    "Let's try with second option (don't worry about deprecation warning)"
   ]
  },
  {
   "cell_type": "code",
   "execution_count": 5,
   "id": "6bb9ad3f",
   "metadata": {
    "scrolled": true
   },
   "outputs": [
    {
     "name": "stderr",
     "output_type": "stream",
     "text": [
      "C:\\Users\\ACER\\anaconda3\\lib\\site-packages\\numba\\core\\ir_utils.py:2147: NumbaPendingDeprecationWarning: \u001b[1m\n",
      "Encountered the use of a type that is scheduled for deprecation: type 'reflected list' found for argument 'arr' of function 'shell_sort_knuths'.\n",
      "\n",
      "For more information visit https://numba.readthedocs.io/en/stable/reference/deprecation.html#deprecation-of-reflection-for-list-and-set-types\n",
      "\u001b[1m\n",
      "File \"..\\AppData\\Local\\Temp\\ipykernel_2520\\159032112.py\", line 6:\u001b[0m\n",
      "\u001b[1m<source missing, REPL/exec in use?>\u001b[0m\n",
      "\u001b[0m\n",
      "  warnings.warn(NumbaPendingDeprecationWarning(msg, loc=loc))\n"
     ]
    },
    {
     "name": "stdout",
     "output_type": "stream",
     "text": [
      "Execution time:  3.684 [s]\n"
     ]
    }
   ],
   "source": [
    "from numba import njit\n",
    "import time\n",
    "start_time = time.time()\n",
    "\n",
    "\n",
    "@njit # using njit as decorator for shell_sort function \n",
    "def shell_sort_knuths(arr):\n",
    "    n = len(arr)\n",
    "    gap = 1\n",
    "    \n",
    "    # Generate Knuth's sequence for gap values\n",
    "    while gap < n // 3:\n",
    "        gap = 3 * gap + 1\n",
    "    \n",
    "    # Loop through different gap values in the sequence\n",
    "    while gap > 0:\n",
    "        # Perform insertion-sort-like steps for each segment\n",
    "        for i in range(gap, n):\n",
    "            temp = arr[i]  # Current element to be inserted in its correct position\n",
    "            j = i\n",
    "            \n",
    "            # Compare and move elements within the segment\n",
    "            while j >= gap and arr[j - gap] > temp:\n",
    "                arr[j] = arr[j - gap]\n",
    "                j -= gap\n",
    "            \n",
    "            # Place the current element in its correct position\n",
    "            arr[j] = temp\n",
    "        \n",
    "        # Reduce the gap according to Knuth's sequence\n",
    "        gap = (gap - 1) // 3\n",
    "\n",
    "np.random.seed(42) \n",
    "arr = np.random.randint(-100_000,100_000, size = 800_000)\n",
    "arr = list(arr)\n",
    "#**********************************************\n",
    "#print('Unsorted array: ', arr)\n",
    "shell_sort_knuths(arr)\n",
    "#print()\n",
    "#print('Sorted array: ', arr)\n",
    "end_time = time.time()\n",
    "\n",
    "print('Execution time: ', round((end_time-start_time), 3), '[s]')"
   ]
  },
  {
   "cell_type": "markdown",
   "id": "b435a6ba",
   "metadata": {},
   "source": [
    "! However, as shown below, in spite of running time reduction, Shell Sort Algorithm is not suitable for large input arrays !\n",
    "--"
   ]
  },
  {
   "cell_type": "code",
   "execution_count": 6,
   "id": "6a7b40ba",
   "metadata": {},
   "outputs": [
    {
     "data": {
      "image/png": "[encoded data removed]",
      "text/plain": [
       "<Figure size 640x480 with 1 Axes>"
      ]
     },
     "metadata": {},
     "output_type": "display_data"
    },
    {
     "name": "stdout",
     "output_type": "stream",
     "text": [
      "Quadratic model parameters: [ 3.07064332e-11  1.11348189e-05 -1.49391149e-02]\n"
     ]
    }
   ],
   "source": [
    "import time\n",
    "import numpy as np\n",
    "import matplotlib.pyplot as plt\n",
    "from scipy.optimize import curve_fit\n",
    "\n",
    "def shell_sort(arr):\n",
    "    n = len(arr)\n",
    "    gap = 1\n",
    "    while gap < n // 3:\n",
    "        gap = 3 * gap + 1\n",
    "    \n",
    "    start_time = time.time()\n",
    "    \n",
    "    while gap > 0:\n",
    "        for i in range(gap, n):\n",
    "            temp = arr[i]\n",
    "            j = i\n",
    "            while j >= gap and arr[j - gap] > temp:\n",
    "                arr[j] = arr[j - gap]\n",
    "                j -= gap\n",
    "            arr[j] = temp\n",
    "        gap = (gap - 1) // 3\n",
    "    \n",
    "    end_time = time.time()\n",
    "    execution_time = end_time - start_time\n",
    "    return execution_time\n",
    "\n",
    "def quadratic_model(x, a, b, c):\n",
    "    return a * x ** 2 + b * x + c\n",
    "\n",
    "array_sizes = np.linspace(1, 100000, num=10, dtype=int)\n",
    "execution_times = []\n",
    "\n",
    "for size in array_sizes:\n",
    "    test_array = np.random.randint(1, 1000000, size=size)\n",
    "    \n",
    "    # Handle possible invalid values during time measurement\n",
    "    try:\n",
    "        time_taken = shell_sort(test_array.copy())\n",
    "        execution_times.append(time_taken)\n",
    "    except:\n",
    "        execution_times.append(np.nan)  # Use np.nan for invalid data\n",
    "\n",
    "# Remove NaN values for curve fitting\n",
    "valid_indices = ~np.isnan(execution_times)\n",
    "valid_sizes = array_sizes[valid_indices]\n",
    "valid_times = np.array(execution_times)[valid_indices]\n",
    "\n",
    "# Fit the quadratic model to the data\n",
    "params, _ = curve_fit(quadratic_model, valid_sizes, valid_times)\n",
    "\n",
    "# Plotting\n",
    "plt.plot(valid_sizes, valid_times, marker='o', label='Data')\n",
    "plt.plot(array_sizes, quadratic_model(array_sizes, *params), label='Quadratic Fit')\n",
    "plt.xlabel('Array Size')\n",
    "plt.ylabel('Execution Time (seconds)')\n",
    "plt.title('Shell Sort Execution Time vs. Array Size')\n",
    "plt.grid(True)\n",
    "plt.legend()\n",
    "plt.show()\n",
    "\n",
    "print(\"Quadratic model parameters:\", params)\n"
   ]
  },
  {
   "cell_type": "code",
   "execution_count": null,
   "id": "fd803e16",
   "metadata": {},
   "outputs": [],
   "source": []
  }
 ],
 "metadata": {
  "kernelspec": {
   "display_name": "Python 3 (ipykernel)",
   "language": "python",
   "name": "python3"
  },
  "language_info": {
   "codemirror_mode": {
    "name": "ipython",
    "version": 3
   },
   "file_extension": ".py",
   "mimetype": "text/x-python",
   "name": "python",
   "nbconvert_exporter": "python",
   "pygments_lexer": "ipython3",
   "version": "3.10.9"
  }
 },
 "nbformat": 4,
 "nbformat_minor": 5
}
