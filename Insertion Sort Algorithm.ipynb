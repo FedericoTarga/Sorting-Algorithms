{
 "cells": [
  {
   "cell_type": "markdown",
   "id": "ebc36572",
   "metadata": {},
   "source": [
    "SORTING ALGORITHM: SELECTION SORT\n",
    "--------------------------------------------------------------------------------------------------------------------------------------"
   ]
  },
  {
   "cell_type": "code",
   "execution_count": null,
   "id": "afe85549",
   "metadata": {},
   "outputs": [],
   "source": [
    "from datetime import datetime\n",
    "current_date_time = datetime.now()\n",
    "formatted_date_time = current_date_time.strftime(\"%Y-%m-%d %H:%M:%S\")\n",
    "author = 'Federico Targa'\n",
    "print('------------------------------------')\n",
    "print(\"| Date & Hour:\", formatted_date_time,'|')\n",
    "print('------------------------------------')\n",
    "print('------------------------------------')\n",
    "print('     |Author: ', author                 ,'|')\n",
    "print('------------------------------------')"
   ]
  },
  {
   "cell_type": "markdown",
   "id": "3eb987a7",
   "metadata": {},
   "source": [
    "Insertion Sort is a simple sorting algorithm that works by building a sorted list one element at a time. It is similar in concept to how people sort playing cards in their hand. The algorithm iterates through the list of elements and repeatedly \"inserts\" the current element into its correct position within the already sorted portion of the list."
   ]
  },
  {
   "cell_type": "markdown",
   "id": "75ee3598",
   "metadata": {},
   "source": [
    "STEPS:\n",
    "--------------------------------------------------------------------------------------------------------------------------------------\n",
    " - Initial State: The algorithm begins with the assumption that the first element in the list is already sorted, as a   single element is always considered sorted.\n",
    "\n",
    "- Iterating Through the List: The algorithm starts iterating from the second element (index 1) to the last element    (index n-1), where n is the total number of elements in the list.\n",
    "\n",
    "- Insertion Process: For each element at the current iteration, the algorithm compares it with the elements to its left (already sorted portion of the list). It then moves the current element to its correct position within the sorted portion by shifting the larger elements to the right until the correct position is found for the current element.\n",
    "\n",
    "- Shifting Elements: While comparing and shifting, the algorithm essentially creates an empty space for the current element to be inserted. This space is created by shifting larger elements to the right. This process continues until the correct position for the current element is found.\n",
    "\n",
    "- Inserting the Element: Once the correct position is identified, the current element is placed in that position, filling the empty space created during the shifting process.\n",
    "\n",
    "- Iteration Continues: The algorithm then moves on to the next element (incrementing the iteration index) and repeats the insertion process until all elements are processed.\n",
    "\n",
    " - Final Sorted List: Once all iterations are complete, the entire list is sorted in ascending (or descending) order."
   ]
  },
  {
   "cell_type": "markdown",
   "id": "79d6e9ec",
   "metadata": {},
   "source": [
    "Let's dive into a detailed examination of the time complexity of the Insertion Sort algorithm.\n",
    "--------------------------------------------------------------------------------------------------------------------------------------\n",
    "Best Case Time Complexity:\n",
    "--------------------------------------------------------------------------------------------------------------------------------------\n",
    "The best case occurs when the input list is already sorted. In this scenario, Insertion Sort is more efficient because for each element, there is only a constant amount of work required to determine its correct position within the sorted portion of the list.\n",
    "\n",
    "- For the first element, no comparisons are needed as it's already considered sorted (1 comparison).\n",
    "- For the second element, one comparison is required to determine if it's in the correct place (1 comparison).\n",
    "- For the third element, two comparisons at most are needed (2 comparisons) and so on...\n",
    "\n",
    "\n",
    "In general, for a list of n elements, if the list is already sorted, Insertion Sort performs approximately n-1 comparisons (since the first element is considered sorted). Therefore, the best case time complexity is O(n), as the number of comparisons grows linearly with the number of elements.\n"
   ]
  },
  {
   "cell_type": "markdown",
   "id": "cbb1d7ee",
   "metadata": {},
   "source": [
    "Average Case Time Complexity:\n",
    "--------------------------------------------------------------------------------------------------------------------------\n",
    "The average case time complexity of Insertion Sort is also O(n^2). This is because it involves a combination of situations where some elements require fewer comparisons due to already being in a somewhat sorted position, while others require more comparisons when they are far from their correct positions."
   ]
  },
  {
   "cell_type": "markdown",
   "id": "adad62e2",
   "metadata": {},
   "source": [
    "Worst Case Time Complexity:\n",
    "--------------------------------------------------------------------------------------------------------------------------------------\n",
    "The worst case occurs when the input list is in reverse order (sorted in descending order). In this case, for each element in the unsorted portion of the list, the algorithm needs to compare it with all the elements in the sorted portion before finding its correct position. This leads to more comparisons and shifting operations.\n",
    "\n",
    "- For the first element, it requires 1 comparison.\n",
    "- For the second element, it requires 2 comparisons.\n",
    "- For the third element, it requires 3 comparisons.\n",
    "- And so on, up to (n-1) comparisons for the last element in the unsorted portion.\n",
    "\n",
    "When you sum up all these comparisons, you get the arithmetic series sum:\n",
    "\n",
    "1 + 2 + 3 + ... + (n-1) = (n * (n-1)) / 2\n",
    "\n",
    "This leads to a worst-case time complexity of O(n^2) (neglecting constatant). The quadratic growth in the number of comparisons and shifting operations makes Insertion Sort inefficient for large input lists."
   ]
  },
  {
   "cell_type": "markdown",
   "id": "66afa2f4",
   "metadata": {},
   "source": [
    "Space Complexity:\n",
    "--------------------------------------------------------------------------------------------------------------------------------------\n",
    "The space complexity of the Insertion Sort algorithm is O(1) because it only requires a constant amount of extra space for temporary variables used in swapping elements. This means that the memory usage of the algorithm does not grow with the size of the input list.\n",
    "\n",
    "In summary, while Insertion Sort is simple to understand and implement, its time complexity makes it inefficient for larger lists, especially when compared to more advanced sorting algorithms like Merge Sort or Quick Sort. It can still be useful for small lists or when the input list is almost sorted, as it takes advantage of the already sorted portions."
   ]
  },
  {
   "cell_type": "markdown",
   "id": "baf71d0e",
   "metadata": {},
   "source": [
    "EXAMPLE 1: INSERTION SORT FOR LISTS\n",
    "------------------"
   ]
  },
  {
   "cell_type": "code",
   "execution_count": null,
   "id": "0e8e30c9",
   "metadata": {},
   "outputs": [],
   "source": [
    "def insertion_sort(L): # L stays for list --> it's not a numpy np.array object!\n",
    "    n = len(L)\n",
    "    for i in range(1, n):\n",
    "        current_element = L[i]\n",
    "        j = i - 1\n",
    "        \n",
    "        while j >= 0 and L[j] > current_element:\n",
    "            L[j + 1] = L[j]\n",
    "            j -= 1\n",
    "        \n",
    "        L[j + 1] = current_element"
   ]
  },
  {
   "cell_type": "markdown",
   "id": "ca54fae2",
   "metadata": {},
   "source": [
    "TEST\n",
    "-----"
   ]
  },
  {
   "cell_type": "code",
   "execution_count": null,
   "id": "5a6f8a75",
   "metadata": {},
   "outputs": [],
   "source": [
    "L = [12, 11, 13, 5, 66.75, 6, -2 ,0 , 44, 31 , 82, -2.2, 0.5]\n",
    "print('Unsorted List: ', L)\n",
    "insertion_sort(L)\n",
    "print()\n",
    "print(\"Sorted list:\", L)\n",
    "print()\n",
    "print('Type of data :', type(L))"
   ]
  },
  {
   "cell_type": "markdown",
   "id": "a01eb67f",
   "metadata": {},
   "source": [
    "EXAMPLE 2: INSERTION SORT FOR NUMPY ARRAYS\n",
    "------------   "
   ]
  },
  {
   "cell_type": "code",
   "execution_count": null,
   "id": "ffec3185",
   "metadata": {},
   "outputs": [],
   "source": [
    "import numpy as np\n",
    "\n",
    "def insertion_sort_numpy(arr):\n",
    "    for i in range(1, len(arr)):\n",
    "        current_element = arr[i]\n",
    "        j = i - 1\n",
    "        \n",
    "        while j >= 0 and arr[j] > current_element:\n",
    "            arr[j + 1] = arr[j]\n",
    "            j -= 1\n",
    "        \n",
    "        arr[j + 1] = current_element"
   ]
  },
  {
   "cell_type": "markdown",
   "id": "9718fea0",
   "metadata": {},
   "source": [
    "TEST\n",
    "-----"
   ]
  },
  {
   "cell_type": "code",
   "execution_count": null,
   "id": "2ec72bd8",
   "metadata": {},
   "outputs": [],
   "source": [
    "arr = np.random.randint(-1000, 1000, size = 10)\n",
    "insertion_sort_numpy(arr)\n",
    "print('Unsorted Array :', arr)\n",
    "print()\n",
    "print(\"Sorted array:\", arr)\n",
    "print()\n",
    "print('Type of data :', type(arr))"
   ]
  }
 ],
 "metadata": {
  "kernelspec": {
   "display_name": "Python 3 (ipykernel)",
   "language": "python",
   "name": "python3"
  },
  "language_info": {
   "codemirror_mode": {
    "name": "ipython",
    "version": 3
   },
   "file_extension": ".py",
   "mimetype": "text/x-python",
   "name": "python",
   "nbconvert_exporter": "python",
   "pygments_lexer": "ipython3",
   "version": "3.10.9"
  }
 },
 "nbformat": 4,
 "nbformat_minor": 5
}
