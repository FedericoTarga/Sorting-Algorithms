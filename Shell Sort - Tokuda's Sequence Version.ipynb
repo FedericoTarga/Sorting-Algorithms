{
 "cells": [
  {
   "cell_type": "markdown",
   "id": "da607b34",
   "metadata": {},
   "source": [
    "Shell Sort - Tokuda's Sequence Version\n",
    "--"
   ]
  },
  {
   "cell_type": "code",
   "execution_count": 1,
   "id": "ec883684",
   "metadata": {},
   "outputs": [
    {
     "name": "stdout",
     "output_type": "stream",
     "text": [
      "------------------------------------\n",
      "| Date & Hour: 2023-08-18 10:35:01 |\n",
      "------------------------------------\n",
      "------------------------------------\n",
      "     |Author:  Federico Targa |\n",
      "------------------------------------\n"
     ]
    }
   ],
   "source": [
    "from datetime import datetime\n",
    "current_date_time = datetime.now()\n",
    "formatted_date_time = current_date_time.strftime(\"%Y-%m-%d %H:%M:%S\")\n",
    "author = 'Federico Targa'\n",
    "print('------------------------------------')\n",
    "print(\"| Date & Hour:\", formatted_date_time,'|')\n",
    "print('------------------------------------')\n",
    "print('------------------------------------')\n",
    "print('     |Author: ', author                 ,'|')\n",
    "print('------------------------------------')"
   ]
  },
  {
   "cell_type": "markdown",
   "id": "fb8d65db",
   "metadata": {},
   "source": [
    "INTRODUCTION\n",
    "--"
   ]
  },
  {
   "cell_type": "markdown",
   "id": "52547b5f",
   "metadata": {},
   "source": [
    "Shell Sort is a popular sorting algorithm that builds upon the insertion sort by dividing the input list into smaller sublists, which are then sorted using insertion sort. The primary idea behind Shell Sort is to sort elements that are far apart from each other and progressively reduce the gap between elements being compared.\n",
    "\n",
    "Tokuda's Sequence is a sequence of integers that is used to determine the gaps or intervals for the Shell Sort algorithm. These gaps are crucial for the algorithm's efficiency. Tokuda's sequence provides a well-defined set of gaps that tend to perform well in practice."
   ]
  },
  {
   "cell_type": "markdown",
   "id": "dcb7db85",
   "metadata": {},
   "source": [
    "HOW DOES IT WORKS?\n",
    "--"
   ]
  },
  {
   "cell_type": "markdown",
   "id": "8526a815",
   "metadata": {},
   "source": [
    "- Generate Tokuda's Sequence: The first step is to generate the Tokuda's sequence, which consists of a series of gap values. These gap values are used to determine the intervals between elements that are compared and swapped during each pass of the Shell Sort algorithm.\n",
    "\n",
    "- Algorithm Steps:\n",
    "  - Start by initializing an index i that represents the current gap interval. Typically, you start with the largest gap from Tokuda's sequence and gradually reduce it.\n",
    "  - In each iteration, you perform an insertion sort on sublists with elements separated by the current gap. For each sublist, you iterate through the elements and compare each element with the one that is i positions before it (elements with the same gap).\n",
    "  - If the element at the earlier position is greater than the current element, you swap them. This step is similar to the insertion sort step.\n",
    "  - After you complete the insertion sort pass for the current gap, you reduce the gap index i to the next smaller gap from Tokuda's sequence and repeat the process until you have iterated through all gap values.\n",
    "\n",
    "- Sorting Process: The sorting process continues as follows:\n",
    "  - Start with the largest gap from Tokuda's sequence and perform insertion sort on sublists with that gap.\n",
    "  - Gradually reduce the gap and repeat the insertion sort for each gap value in Tokuda's sequence.\n",
    "  - The final iteration should have a gap of 1, effectively performing an insertion sort on the entire list.\n",
    "\n",
    "- Completion: Once the algorithm finishes the pass with a gap of 1, the list will be sorted.\n",
    "\n",
    "Here's an example of Tokuda's sequence: 1, 4, 9, 20, 46, 103, 233, 525, 1182, 2660...\n",
    "\n",
    "Let's say you have the following unsorted list: [8, 3, 11, 5, 2, 9, 1]. Using Tokuda's sequence, you start with the largest gap (2660), then move to the next smaller gap (1182), and so on, until you reach a gap of 1.\n",
    "\n",
    "Remember that the Tokuda's sequence provides gap values, and the Shell Sort algorithm utilizes these gaps to perform more efficient insertion sorts on sublists with elements separated by those gaps. This progressive reduction of gap sizes allows the algorithm to take advantage of partially sorted data, which speeds up the overall sorting process compared to a traditional insertion sort."
   ]
  },
  {
   "cell_type": "markdown",
   "id": "1a21bd64",
   "metadata": {},
   "source": [
    "IMPLEMENTATION  AND TEST\n",
    "--"
   ]
  },
  {
   "cell_type": "code",
   "execution_count": 2,
   "id": "553bc956",
   "metadata": {},
   "outputs": [],
   "source": [
    "def generate_tokuda_sequence(size):\n",
    "    k = 0\n",
    "    sequence = [2 * (size // (2 ** (k + 1))) + 1 for k in range(size)]\n",
    "    return [gap for gap in sequence if gap >= 1]\n",
    "\n",
    "def shell_sort(arr):\n",
    "    size = len(arr)\n",
    "    gaps = generate_tokuda_sequence(size)\n",
    "    \n",
    "    for gap in gaps:\n",
    "        for i in range(gap, size):\n",
    "            temp = arr[i]\n",
    "            j = i\n",
    "            while j >= gap and arr[j - gap] > temp:\n",
    "                arr[j] = arr[j - gap]\n",
    "                j -= gap\n",
    "            arr[j] = temp\n",
    "    \n",
    "    return arr"
   ]
  },
  {
   "cell_type": "markdown",
   "id": "07ebb699",
   "metadata": {},
   "source": [
    "Please note that also within shell_sort function you could use list comprehensions. In spite of that, the readability and efficiency of the algorithm suffer. In fact, List comprehensions are more suitable for creating new lists based on existing ones, rather than for complex in-place swapping and sorting operations. It's recommended to use standard loops for complex sorting algorithms like Shell Sort for clarity and maintainability."
   ]
  },
  {
   "cell_type": "markdown",
   "id": "021a7fc3",
   "metadata": {},
   "source": [
    "TEST 1\n",
    "--"
   ]
  },
  {
   "cell_type": "code",
   "execution_count": 3,
   "id": "abe9b6c8",
   "metadata": {},
   "outputs": [
    {
     "name": "stdout",
     "output_type": "stream",
     "text": [
      "Unsorted array:  [8, 3, 11, 5, 2, -0.29, 1.1, -5]\n",
      "\n",
      "Sorted array: [-5, -0.29, 1.1, 2, 3, 5, 8, 11]\n"
     ]
    }
   ],
   "source": [
    "arr = [8, 3, 11, 5, 2, -0.29, 1.1, -5]\n",
    "print('Unsorted array: ', arr)\n",
    "sorted_arr = shell_sort(arr)\n",
    "print()\n",
    "print(\"Sorted array:\", sorted_arr)"
   ]
  },
  {
   "cell_type": "markdown",
   "id": "999823bf",
   "metadata": {},
   "source": [
    "TEST 2\n",
    "--"
   ]
  },
  {
   "cell_type": "code",
   "execution_count": 4,
   "id": "701adce9",
   "metadata": {},
   "outputs": [
    {
     "name": "stdout",
     "output_type": "stream",
     "text": [
      "Unsorted array:  [ 5.367e+01 -8.036e+01 -8.224e+01  1.406e+01 -1.580e+01  3.000e-02\n",
      " -7.409e+01 -9.606e+01  8.244e+01  7.810e+00]\n",
      "\n",
      "Sorted array: [-9.606e+01 -8.224e+01 -8.036e+01 -7.409e+01 -1.580e+01  3.000e-02\n",
      "  7.810e+00  1.406e+01  5.367e+01  8.244e+01]\n"
     ]
    }
   ],
   "source": [
    "import numpy as np\n",
    "arr = np.random.uniform(-100, 100 , size = 10).round(2) # .round(N) -> N is the number of decimal digits\n",
    "print('Unsorted array: ', arr)\n",
    "sorted_arr = shell_sort(arr)\n",
    "print()\n",
    "print(\"Sorted array:\", sorted_arr)"
   ]
  },
  {
   "cell_type": "markdown",
   "id": "9ea20af7",
   "metadata": {},
   "source": [
    "TEST 3 - COMPUTING RUNNING TIME EXECUTION\n",
    "--"
   ]
  },
  {
   "cell_type": "code",
   "execution_count": 5,
   "id": "8e72128c",
   "metadata": {},
   "outputs": [
    {
     "name": "stdout",
     "output_type": "stream",
     "text": [
      "Execution Time: 34.375 [s]\n"
     ]
    }
   ],
   "source": [
    "import time\n",
    "start_time = time.time()\n",
    "def generate_tokuda_sequence(size):\n",
    "    k = 0\n",
    "    sequence = [2 * (size // (2 ** (k + 1))) + 1 for k in range(size)]\n",
    "    return [gap for gap in sequence if gap >= 1]\n",
    "\n",
    "def shell_sort(arr):\n",
    "    size = len(arr)\n",
    "    gaps = generate_tokuda_sequence(size)\n",
    "    \n",
    "    for gap in gaps:\n",
    "        for i in range(gap, size):\n",
    "            temp = arr[i]\n",
    "            j = i\n",
    "            while j >= gap and arr[j - gap] > temp:\n",
    "                arr[j] = arr[j - gap]\n",
    "                j -= gap\n",
    "            arr[j] = temp\n",
    "    \n",
    "    return arr\n",
    "\n",
    "arr = np.random.randint(-100_000, 100_000 , size = 10000)  # randint: only integers elements\n",
    "sorted_arr = shell_sort(arr)\n",
    "end_time = time.time()\n",
    "ex_time = round(end_time - start_time , 3)\n",
    "print('Execution Time:', ex_time, '[s]')"
   ]
  },
  {
   "cell_type": "markdown",
   "id": "86eec1d6",
   "metadata": {},
   "source": [
    "As we can se by computing running time execution, Shell sort algorithm with Tokuda's Sequence is not suited for large input arrays.\n",
    "In fact, Shell sort is a sorting algorithm that works by dividing the input array into smaller subarrays and sorting those subarrays using insertion sort. The gaps between elements being compared and swapped are progressively reduced until the array is completely sorted.\n",
    "\n",
    "Tokuda's sequence is a sequence of gap values that are often used in shell sort to determine the gaps between subarrays. The formula for Tokuda's sequence is:\n",
    "\n",
    "                                          Tokuda(i) = ceil(2.25^i - 1)\n",
    "Where i is the index of the gap value in the sequence (starting from 1). This sequence tends to perform well in practice.\n",
    "\n",
    "The time complexity of shell sort heavily depends on the chosen gap sequence. The worst-case time complexity of shell sort using the Tokuda's sequence for gap generation is generally believed to be somewhere between O(n^(5/4)) and O(n^(7/4)), but it's not precisely known.\n",
    "\n",
    "In most cases, shell sort with Tokuda's sequence performs better than the basic insertion sort but may not be as efficient as some of the more advanced sorting algorithms like quicksort or merge sort. Keep in mind that while theoretical time complexity provides insight into the algorithm's behavior, actual performance can be influenced by various factors, including the implementation, hardware, and the specific input data."
   ]
  }
 ],
 "metadata": {
  "kernelspec": {
   "display_name": "Python 3 (ipykernel)",
   "language": "python",
   "name": "python3"
  },
  "language_info": {
   "codemirror_mode": {
    "name": "ipython",
    "version": 3
   },
   "file_extension": ".py",
   "mimetype": "text/x-python",
   "name": "python",
   "nbconvert_exporter": "python",
   "pygments_lexer": "ipython3",
   "version": "3.10.9"
  }
 },
 "nbformat": 4,
 "nbformat_minor": 5
}
