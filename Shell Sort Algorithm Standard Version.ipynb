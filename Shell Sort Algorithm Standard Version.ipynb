{
 "cells": [
  {
   "cell_type": "markdown",
   "id": "c91f98aa",
   "metadata": {},
   "source": [
    "SORTING ALGORITHM: SHELL SORT - STANDARD\n",
    "----"
   ]
  },
  {
   "cell_type": "code",
   "execution_count": 1,
   "id": "1febff6f",
   "metadata": {},
   "outputs": [
    {
     "name": "stdout",
     "output_type": "stream",
     "text": [
      "------------------------------------\n",
      "| Date & Hour: 2023-08-09 17:33:19 |\n",
      "------------------------------------\n",
      "------------------------------------\n",
      "     |Author:  Federico Targa |\n",
      "------------------------------------\n"
     ]
    }
   ],
   "source": [
    "from datetime import datetime\n",
    "current_date_time = datetime.now()\n",
    "formatted_date_time = current_date_time.strftime(\"%Y-%m-%d %H:%M:%S\")\n",
    "author = 'Federico Targa'\n",
    "print('------------------------------------')\n",
    "print(\"| Date & Hour:\", formatted_date_time,'|')\n",
    "print('------------------------------------')\n",
    "print('------------------------------------')\n",
    "print('     |Author: ', author                 ,'|')\n",
    "print('------------------------------------')"
   ]
  },
  {
   "cell_type": "markdown",
   "id": "3d350b0c",
   "metadata": {},
   "source": [
    "Shell Sort is an efficient sorting algorithm that's an extension of Insertion Sort. It was designed to improve the performance of Insertion Sort by allowing elements to move in larger steps initially and then gradually reducing the step size until the list is completely sorted."
   ]
  },
  {
   "cell_type": "markdown",
   "id": "b4b7a6b9",
   "metadata": {},
   "source": [
    "STEPS:\n",
    "---------------------------------------------------------------------------------------------------------------------------------\n",
    "- Gap Sequence Selection: The first step of Shell Sort involves selecting a sequence of gap values. A gap is the distance between elements that are being compared or swapped. The choice of gap sequence significantly affects the algorithm's efficiency. Common gap sequences include the Knuth sequence (3^k - 1), the Sedgewick sequence, or even simply halving the gap at each step.\n",
    "\n",
    "- Sorting Passes: The algorithm then performs a series of sorting passes, where each pass uses a specific gap value. The idea is to sort sublists of the original list, where each sublist contains elements that are spaced by the gap distance.\n",
    "\n",
    "- Insertion Sort within Sublists: During each pass, Shell Sort applies an insertion sort within each sublist. This means that it takes the elements within the sublist and sorts them using the insertion sort method. However, because of the larger gap, the elements can move faster towards their correct positions, making the sorting process more efficient.\n",
    "\n",
    "- Reducing Gap Size: After each pass, the gap value is reduced, usually by halving it, until the gap becomes 1. When the gap becomes 1, the final pass of Shell Sort is essentially the same as a regular insertion sort, but the advantage is that the list has been partially sorted due to the previous passes with larger gap values.\n",
    "\n",
    "- Complete Sort: After the last pass with a gap of 1, the list should be almost sorted. In the final pass, where the gap is 1, the algorithm performs the last insertion sort pass, ensuring that all elements are in their correct positions."
   ]
  },
  {
   "cell_type": "markdown",
   "id": "60481905",
   "metadata": {},
   "source": [
    "Shell Sort offers an improvement over the basic Insertion Sort because it allows elements to move to their correct positions in fewer steps, which can result in faster sorting for larger lists. However, the efficiency of Shell Sort depends on the chosen gap sequence, and it's not as well-known or widely used as some other sorting algorithms like Quicksort or Merge Sort."
   ]
  },
  {
   "cell_type": "markdown",
   "id": "191c19e9",
   "metadata": {},
   "source": [
    "PSEUDOCODE\n",
    "----"
   ]
  },
  {
   "cell_type": "code",
   "execution_count": 2,
   "id": "555e711f",
   "metadata": {},
   "outputs": [
    {
     "data": {
      "image/png": "[encoded data removed]",
      "text/plain": [
       "<PIL.PngImagePlugin.PngImageFile image mode=RGBA size=527x396>"
      ]
     },
     "metadata": {},
     "output_type": "display_data"
    }
   ],
   "source": [
    "from PIL import Image\n",
    "from IPython.display import display\n",
    "\n",
    "def open_image(image_path):\n",
    "    try:\n",
    "        image = Image.open(image_path)\n",
    "        return image\n",
    "    except IOError:\n",
    "        print(f\"Unable to open image at '{image_path}'\")\n",
    "        return None\n",
    "\n",
    "# Example usage:\n",
    "image = open_image(\"Sheel_sort_pseudocode.png\")\n",
    "if image:\n",
    "    display(image)"
   ]
  },
  {
   "cell_type": "markdown",
   "id": "437a79a4",
   "metadata": {},
   "source": [
    "The time complexity analysis of the Shell Sort algorithm is a bit complex due to its dependency on the chosen gap sequence. However, we can provide a general overview of the best-case, average-case, and worst-case scenarios.\n",
    "\n",
    "Let's denote n as the number of elements in the array to be sorted.\n",
    "\n",
    "BEST CASE\n",
    "---\n",
    "The best-case time complexity of Shell Sort largely depends on the chosen gap sequence. If you have a gap sequence that results in a nearly sorted list after the initial passes, the insertion sort within each sublist will require fewer comparisons and swaps. In this ideal case, the time complexity can be around O(n log n). However, finding such a gap sequence is not always straightforward.\n",
    "\n",
    "AVARAGE-CASE\n",
    "---\n",
    "The average-case time complexity of Shell Sort is a bit difficult to determine precisely due to the variability introduced by different gap sequences. In practical scenarios, it's generally considered to be better than the quadratic time complexities of algorithms like Bubble Sort or Insertion Sort, but it's still worse than more advanced sorting algorithms like Quicksort or Merge Sort. The average time complexity is often estimated to be between O(n^(3/2)) and O(n^(7/6)).\n",
    "\n",
    "WORST-CASE\n",
    "---\n",
    "The worst-case time complexity of Shell Sort is more predictable. When using the optimal gap sequence (e.g., Sedgewick's sequence), the worst-case time complexity can be approximated as O(n log^2 n). This is an improvement over the O(n^2) worst-case time complexity of Insertion Sort."
   ]
  },
  {
   "cell_type": "markdown",
   "id": "6e2c89a7",
   "metadata": {},
   "source": [
    "Keep in mind that these time complexities are estimates and depend heavily on the gap sequence used. The effectiveness of the gap sequence can vary based on the specific input data.\n",
    "\n",
    "Moreover, It's important to note that while Shell Sort can be faster than simpler algorithms like Bubble Sort or Insertion Sort, it's generally not as efficient as more advanced sorting algorithms like Quicksort or Merge Sort, especially for larger datasets. Therefore, in practice, Shell Sort might not be the first choice for sorting unless specific constraints or requirements warrant its use."
   ]
  },
  {
   "cell_type": "markdown",
   "id": "84a8702c",
   "metadata": {},
   "source": [
    "EXAMPLE 1: INSERTION SORT FOR LISTS\n",
    "---"
   ]
  },
  {
   "cell_type": "code",
   "execution_count": 3,
   "id": "8f481b34",
   "metadata": {},
   "outputs": [],
   "source": [
    "def shell_sort(L): # L stays for lists\n",
    "    n = len(L)\n",
    "    gap = n // 2\n",
    "    \n",
    "    while gap > 0:\n",
    "        for i in range(gap, n):\n",
    "            temp = L[i]\n",
    "            j = i\n",
    "            \n",
    "            while j >= gap and L[j - gap] > temp:\n",
    "                L[j] = L[j - gap]\n",
    "                j -= gap\n",
    "            \n",
    "            L[j] = temp\n",
    "        \n",
    "        gap //= 2"
   ]
  },
  {
   "cell_type": "code",
   "execution_count": 4,
   "id": "cb9618de",
   "metadata": {},
   "outputs": [
    {
     "name": "stdout",
     "output_type": "stream",
     "text": [
      "Unsorted List:  [0.22, -11, 43, -34.5, 12, 31, 8, 23.12, 56, 19, 0.5]\n",
      "\n",
      "Sorted list: [-34.5, -11, 0.22, 0.5, 8, 12, 19, 23.12, 31, 43, 56]\n",
      "\n",
      "Type of data : <class 'list'>\n"
     ]
    }
   ],
   "source": [
    "#TEST\n",
    "L = [0.22, -11, 43, -34.5, 12, 31, 8, 23.12 , 56, 19, 0.5]\n",
    "print('Unsorted List: ', L)\n",
    "shell_sort(L)\n",
    "print()\n",
    "print(\"Sorted list:\", L)\n",
    "print()\n",
    "print('Type of data :', type(L))"
   ]
  },
  {
   "cell_type": "markdown",
   "id": "d85844e9",
   "metadata": {},
   "source": [
    "EXAMPLE 2: INSERTION SORT FOR NUMPY ARRAYS\n",
    "----  "
   ]
  },
  {
   "cell_type": "code",
   "execution_count": 5,
   "id": "d1adc526",
   "metadata": {},
   "outputs": [],
   "source": [
    "import numpy as np\n",
    "\n",
    "def shell_sort_numpy(arr):\n",
    "    n = len(arr)\n",
    "    gap = n // 2\n",
    "    \n",
    "    while gap > 0:\n",
    "        for i in range(gap, n):\n",
    "            temp = arr[i]\n",
    "            j = i\n",
    "            \n",
    "            while j >= gap and arr[j - gap] > temp:\n",
    "                arr[j] = arr[j - gap]\n",
    "                j -= gap\n",
    "            \n",
    "            arr[j] = temp\n",
    "        \n",
    "        gap //= 2"
   ]
  },
  {
   "cell_type": "code",
   "execution_count": 6,
   "id": "7933c855",
   "metadata": {
    "scrolled": false
   },
   "outputs": [
    {
     "name": "stdout",
     "output_type": "stream",
     "text": [
      "Unsorted Array \n",
      " [[-857.29]\n",
      " [-561.88]\n",
      " [-448.78]\n",
      " [-418.75]\n",
      " [ 266.59]\n",
      " [ 516.59]\n",
      " [ 568.7 ]\n",
      " [ 678.49]\n",
      " [ 701.3 ]\n",
      " [ 760.83]]\n",
      "\n",
      "Sorted Array \n",
      " [[-857.29]\n",
      " [-561.88]\n",
      " [-448.78]\n",
      " [-418.75]\n",
      " [ 266.59]\n",
      " [ 516.59]\n",
      " [ 568.7 ]\n",
      " [ 678.49]\n",
      " [ 701.3 ]\n",
      " [ 760.83]]\n",
      "\n",
      "Type of data : <class 'numpy.ndarray'>\n"
     ]
    }
   ],
   "source": [
    "arr = np.random.uniform(-1000, 1000, size = 10).round(2)\n",
    "shell_sort_numpy(arr)\n",
    "print('Unsorted Array \\n', arr.reshape(10,1)) \n",
    "print()\n",
    "print(\"Sorted Array \\n\", arr.reshape(10,1)) \n",
    "print()\n",
    "print('Type of data :', type(arr))"
   ]
  },
  {
   "cell_type": "markdown",
   "id": "6bb100f8",
   "metadata": {},
   "source": [
    "CONCLUSIONS:\n",
    "-----   "
   ]
  },
  {
   "cell_type": "markdown",
   "id": "97f71761",
   "metadata": {},
   "source": [
    "Shell Sort has several variations and optimizations aimed at improving its performance and efficiency. Some of these variations include:\n",
    "    Hibbard's Gap Sequence: This gap sequence is defined as 2^k - 1. It's known to be efficient but can be somewhat aggressive in terms of gap reduction, potentially leading to a less optimized sorting process.\n",
    "\n",
    "- Sedgewick's Gap Sequence: Sedgewick proposed a more balanced gap sequence that combines powers of 4 and 2. This sequence has been shown to perform well in practice and strikes a good balance between gap reduction and sorting efficiency.\n",
    "\n",
    "- Tokuda's Gap Sequence: This is another variation of the gap sequence that has been experimentally determined to be effective. The formula for Tokuda's sequence is (9 * 4^k) - (9 * 2^k) + 1.\n",
    "\n",
    "- Pratt's Gap Sequence: Pratt's sequence is generated by considering the powers of 2 and 3. It's not as commonly used as some other sequences but can be interesting to explore.\n",
    "\n",
    "- Knuth's Gap Sequence: Donald Knuth suggested a gap sequence based on powers of 3 (3^k). This sequence is relatively slower compared to some other sequences, but it provides insight into the theoretical analysis of Shell Sort's time complexity.\n",
    "\n",
    "- Ciura's Gap Sequence: Ciura's sequence is a relatively recent proposal that was found through experimentation to work well in practice. It's a more modern approach to gap sequence selection and is based on empirical evaluation.\n",
    "\n",
    "- Tokuda's Gap Sequence: Tokuda's sequence was empirically derived to work well in practice. It's not as well-known as some other sequences, but it's worth considering as an option."
   ]
  },
  {
   "cell_type": "code",
   "execution_count": 7,
   "id": "7887c417",
   "metadata": {},
   "outputs": [
    {
     "name": "stdout",
     "output_type": "stream",
     "text": [
      "Check all sequences here:  https://oeis.org/\n"
     ]
    }
   ],
   "source": [
    "link = \"https://oeis.org/\"\n",
    "print('Check all sequences here: ', link)"
   ]
  },
  {
   "cell_type": "markdown",
   "id": "c93e45c4",
   "metadata": {},
   "source": [
    "These are just a few examples of the many gap sequences and variations that have been proposed for Shell Sort. When using Shell Sort, selecting an appropriate gap sequence is crucial to achieving good performance. Different sequences might perform better or worse depending on the specific characteristics of the input data. Empirical testing and analysis are often used to determine which sequence works best for a given use case."
   ]
  }
 ],
 "metadata": {
  "kernelspec": {
   "display_name": "Python 3 (ipykernel)",
   "language": "python",
   "name": "python3"
  },
  "language_info": {
   "codemirror_mode": {
    "name": "ipython",
    "version": 3
   },
   "file_extension": ".py",
   "mimetype": "text/x-python",
   "name": "python",
   "nbconvert_exporter": "python",
   "pygments_lexer": "ipython3",
   "version": "3.10.9"
  }
 },
 "nbformat": 4,
 "nbformat_minor": 5
}
